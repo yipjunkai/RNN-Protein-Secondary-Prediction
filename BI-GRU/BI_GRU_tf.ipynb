{
  "cells": [
    {
      "cell_type": "markdown",
      "metadata": {
        "id": "Y61YA90-WIZ1"
      },
      "source": [
        "## Install (Colab only)\n",
        "Skip this step when running locally."
      ]
    },
    {
      "cell_type": "code",
      "execution_count": 1,
      "metadata": {
        "id": "WZrPCr9GWEAJ"
      },
      "outputs": [],
      "source": [
        "# !pip install ..."
      ]
    },
    {
      "cell_type": "markdown",
      "source": [
        "# Import libraries"
      ],
      "metadata": {
        "id": "YggujxDrO7Uk"
      }
    },
    {
      "cell_type": "code",
      "source": [
        "import numpy as np\n",
        "import pandas as pd\n",
        "\n",
        "import matplotlib.pyplot as plt\n",
        "\n",
        "from tqdm import tqdm\n",
        "\n",
        "from sklearn.model_selection import train_test_split\n",
        "\n",
        "import pickle\n",
        "import time\n",
        "\n",
        "# Keras\n",
        "import keras\n",
        "from keras import Sequential, Input\n",
        "from keras.models import Model\n",
        "from keras.layers import GRU, Embedding, Dense, TimeDistributed, Bidirectional, LSTM, Dropout\n",
        "\n",
        "import tensorflow as tf\n",
        "from tensorflow.keras.preprocessing.text import Tokenizer\n",
        "from tensorflow.keras.preprocessing.sequence import pad_sequences\n",
        "from tensorflow.keras.utils import to_categorical\n",
        "\n",
        "# filter some user warnings from torch broadcast\n",
        "import warnings\n",
        "warnings.filterwarnings(\"ignore\")"
      ],
      "metadata": {
        "id": "hK2e8RPWOUk4"
      },
      "execution_count": 2,
      "outputs": []
    },
    {
      "cell_type": "code",
      "source": [
        "# TF / Keras random number generator\n",
        "tf.random.set_seed(1234)\n",
        "\n",
        "# Random number generators in other libraries\n",
        "np.random.seed(1234)"
      ],
      "metadata": {
        "id": "DlkSlZedfRoK"
      },
      "execution_count": 3,
      "outputs": []
    },
    {
      "cell_type": "markdown",
      "source": [
        "# Loading data"
      ],
      "metadata": {
        "id": "p98iuwReR3Ix"
      }
    },
    {
      "cell_type": "code",
      "source": [
        "#!/bin/bash\n",
        "!mkdir -p ./data\n",
        "\n",
        "!curl -L -o ./data/archive.zip \\\n",
        "https://www.kaggle.com/api/v1/datasets/download/alfrandom/protein-secondary-structure\n",
        "\n",
        "!unzip ./data/archive.zip -d ./data/"
      ],
      "metadata": {
        "id": "JP_5-5F3OT-L",
        "colab": {
          "base_uri": "https://localhost:8080/"
        },
        "outputId": "b4f5f963-9d44-43a6-db87-bd8e7b5b7bca"
      },
      "execution_count": 4,
      "outputs": [
        {
          "output_type": "stream",
          "name": "stdout",
          "text": [
            "  % Total    % Received % Xferd  Average Speed   Time    Time     Time  Current\n",
            "                                 Dload  Upload   Total   Spent    Left  Speed\n",
            "  0     0    0     0    0     0      0      0 --:--:-- --:--:-- --:--:--     0\n",
            "100 38.8M  100 38.8M    0     0  46.3M      0 --:--:-- --:--:-- --:--:-- 46.3M\n",
            "Archive:  ./data/archive.zip\n",
            "  inflating: ./data/2018-06-06-pdb-intersect-pisces.csv  \n",
            "  inflating: ./data/2018-06-06-ss.cleaned.csv  \n"
          ]
        }
      ]
    },
    {
      "cell_type": "code",
      "execution_count": 5,
      "metadata": {
        "id": "Fk3dBJR_zQ4H",
        "colab": {
          "base_uri": "https://localhost:8080/",
          "height": 206
        },
        "outputId": "b1502775-d7ab-4fc8-dddf-962949d185c3"
      },
      "outputs": [
        {
          "output_type": "execute_result",
          "data": {
            "text/plain": [
              "  pdb_id chain_code  seq sst8 sst3  len  has_nonstd_aa\n",
              "0   1A30          C  EDL  CBC  CEC    3          False\n",
              "1   1B05          B  KCK  CBC  CEC    3          False\n",
              "2   1B0H          B  KAK  CBC  CEC    3          False\n",
              "3   1B1H          B  KFK  CBC  CEC    3          False\n",
              "4   1B2H          B  KAK  CBC  CEC    3          False"
            ],
            "text/html": [
              "\n",
              "  <div id=\"df-805d4f31-a802-4bd1-95cf-a8a7ee459cdc\" class=\"colab-df-container\">\n",
              "    <div>\n",
              "<style scoped>\n",
              "    .dataframe tbody tr th:only-of-type {\n",
              "        vertical-align: middle;\n",
              "    }\n",
              "\n",
              "    .dataframe tbody tr th {\n",
              "        vertical-align: top;\n",
              "    }\n",
              "\n",
              "    .dataframe thead th {\n",
              "        text-align: right;\n",
              "    }\n",
              "</style>\n",
              "<table border=\"1\" class=\"dataframe\">\n",
              "  <thead>\n",
              "    <tr style=\"text-align: right;\">\n",
              "      <th></th>\n",
              "      <th>pdb_id</th>\n",
              "      <th>chain_code</th>\n",
              "      <th>seq</th>\n",
              "      <th>sst8</th>\n",
              "      <th>sst3</th>\n",
              "      <th>len</th>\n",
              "      <th>has_nonstd_aa</th>\n",
              "    </tr>\n",
              "  </thead>\n",
              "  <tbody>\n",
              "    <tr>\n",
              "      <th>0</th>\n",
              "      <td>1A30</td>\n",
              "      <td>C</td>\n",
              "      <td>EDL</td>\n",
              "      <td>CBC</td>\n",
              "      <td>CEC</td>\n",
              "      <td>3</td>\n",
              "      <td>False</td>\n",
              "    </tr>\n",
              "    <tr>\n",
              "      <th>1</th>\n",
              "      <td>1B05</td>\n",
              "      <td>B</td>\n",
              "      <td>KCK</td>\n",
              "      <td>CBC</td>\n",
              "      <td>CEC</td>\n",
              "      <td>3</td>\n",
              "      <td>False</td>\n",
              "    </tr>\n",
              "    <tr>\n",
              "      <th>2</th>\n",
              "      <td>1B0H</td>\n",
              "      <td>B</td>\n",
              "      <td>KAK</td>\n",
              "      <td>CBC</td>\n",
              "      <td>CEC</td>\n",
              "      <td>3</td>\n",
              "      <td>False</td>\n",
              "    </tr>\n",
              "    <tr>\n",
              "      <th>3</th>\n",
              "      <td>1B1H</td>\n",
              "      <td>B</td>\n",
              "      <td>KFK</td>\n",
              "      <td>CBC</td>\n",
              "      <td>CEC</td>\n",
              "      <td>3</td>\n",
              "      <td>False</td>\n",
              "    </tr>\n",
              "    <tr>\n",
              "      <th>4</th>\n",
              "      <td>1B2H</td>\n",
              "      <td>B</td>\n",
              "      <td>KAK</td>\n",
              "      <td>CBC</td>\n",
              "      <td>CEC</td>\n",
              "      <td>3</td>\n",
              "      <td>False</td>\n",
              "    </tr>\n",
              "  </tbody>\n",
              "</table>\n",
              "</div>\n",
              "    <div class=\"colab-df-buttons\">\n",
              "\n",
              "  <div class=\"colab-df-container\">\n",
              "    <button class=\"colab-df-convert\" onclick=\"convertToInteractive('df-805d4f31-a802-4bd1-95cf-a8a7ee459cdc')\"\n",
              "            title=\"Convert this dataframe to an interactive table.\"\n",
              "            style=\"display:none;\">\n",
              "\n",
              "  <svg xmlns=\"http://www.w3.org/2000/svg\" height=\"24px\" viewBox=\"0 -960 960 960\">\n",
              "    <path d=\"M120-120v-720h720v720H120Zm60-500h600v-160H180v160Zm220 220h160v-160H400v160Zm0 220h160v-160H400v160ZM180-400h160v-160H180v160Zm440 0h160v-160H620v160ZM180-180h160v-160H180v160Zm440 0h160v-160H620v160Z\"/>\n",
              "  </svg>\n",
              "    </button>\n",
              "\n",
              "  <style>\n",
              "    .colab-df-container {\n",
              "      display:flex;\n",
              "      gap: 12px;\n",
              "    }\n",
              "\n",
              "    .colab-df-convert {\n",
              "      background-color: #E8F0FE;\n",
              "      border: none;\n",
              "      border-radius: 50%;\n",
              "      cursor: pointer;\n",
              "      display: none;\n",
              "      fill: #1967D2;\n",
              "      height: 32px;\n",
              "      padding: 0 0 0 0;\n",
              "      width: 32px;\n",
              "    }\n",
              "\n",
              "    .colab-df-convert:hover {\n",
              "      background-color: #E2EBFA;\n",
              "      box-shadow: 0px 1px 2px rgba(60, 64, 67, 0.3), 0px 1px 3px 1px rgba(60, 64, 67, 0.15);\n",
              "      fill: #174EA6;\n",
              "    }\n",
              "\n",
              "    .colab-df-buttons div {\n",
              "      margin-bottom: 4px;\n",
              "    }\n",
              "\n",
              "    [theme=dark] .colab-df-convert {\n",
              "      background-color: #3B4455;\n",
              "      fill: #D2E3FC;\n",
              "    }\n",
              "\n",
              "    [theme=dark] .colab-df-convert:hover {\n",
              "      background-color: #434B5C;\n",
              "      box-shadow: 0px 1px 3px 1px rgba(0, 0, 0, 0.15);\n",
              "      filter: drop-shadow(0px 1px 2px rgba(0, 0, 0, 0.3));\n",
              "      fill: #FFFFFF;\n",
              "    }\n",
              "  </style>\n",
              "\n",
              "    <script>\n",
              "      const buttonEl =\n",
              "        document.querySelector('#df-805d4f31-a802-4bd1-95cf-a8a7ee459cdc button.colab-df-convert');\n",
              "      buttonEl.style.display =\n",
              "        google.colab.kernel.accessAllowed ? 'block' : 'none';\n",
              "\n",
              "      async function convertToInteractive(key) {\n",
              "        const element = document.querySelector('#df-805d4f31-a802-4bd1-95cf-a8a7ee459cdc');\n",
              "        const dataTable =\n",
              "          await google.colab.kernel.invokeFunction('convertToInteractive',\n",
              "                                                    [key], {});\n",
              "        if (!dataTable) return;\n",
              "\n",
              "        const docLinkHtml = 'Like what you see? Visit the ' +\n",
              "          '<a target=\"_blank\" href=https://colab.research.google.com/notebooks/data_table.ipynb>data table notebook</a>'\n",
              "          + ' to learn more about interactive tables.';\n",
              "        element.innerHTML = '';\n",
              "        dataTable['output_type'] = 'display_data';\n",
              "        await google.colab.output.renderOutput(dataTable, element);\n",
              "        const docLink = document.createElement('div');\n",
              "        docLink.innerHTML = docLinkHtml;\n",
              "        element.appendChild(docLink);\n",
              "      }\n",
              "    </script>\n",
              "  </div>\n",
              "\n",
              "\n",
              "<div id=\"df-321e1064-7a77-4195-a772-4e2126514e39\">\n",
              "  <button class=\"colab-df-quickchart\" onclick=\"quickchart('df-321e1064-7a77-4195-a772-4e2126514e39')\"\n",
              "            title=\"Suggest charts\"\n",
              "            style=\"display:none;\">\n",
              "\n",
              "<svg xmlns=\"http://www.w3.org/2000/svg\" height=\"24px\"viewBox=\"0 0 24 24\"\n",
              "     width=\"24px\">\n",
              "    <g>\n",
              "        <path d=\"M19 3H5c-1.1 0-2 .9-2 2v14c0 1.1.9 2 2 2h14c1.1 0 2-.9 2-2V5c0-1.1-.9-2-2-2zM9 17H7v-7h2v7zm4 0h-2V7h2v10zm4 0h-2v-4h2v4z\"/>\n",
              "    </g>\n",
              "</svg>\n",
              "  </button>\n",
              "\n",
              "<style>\n",
              "  .colab-df-quickchart {\n",
              "      --bg-color: #E8F0FE;\n",
              "      --fill-color: #1967D2;\n",
              "      --hover-bg-color: #E2EBFA;\n",
              "      --hover-fill-color: #174EA6;\n",
              "      --disabled-fill-color: #AAA;\n",
              "      --disabled-bg-color: #DDD;\n",
              "  }\n",
              "\n",
              "  [theme=dark] .colab-df-quickchart {\n",
              "      --bg-color: #3B4455;\n",
              "      --fill-color: #D2E3FC;\n",
              "      --hover-bg-color: #434B5C;\n",
              "      --hover-fill-color: #FFFFFF;\n",
              "      --disabled-bg-color: #3B4455;\n",
              "      --disabled-fill-color: #666;\n",
              "  }\n",
              "\n",
              "  .colab-df-quickchart {\n",
              "    background-color: var(--bg-color);\n",
              "    border: none;\n",
              "    border-radius: 50%;\n",
              "    cursor: pointer;\n",
              "    display: none;\n",
              "    fill: var(--fill-color);\n",
              "    height: 32px;\n",
              "    padding: 0;\n",
              "    width: 32px;\n",
              "  }\n",
              "\n",
              "  .colab-df-quickchart:hover {\n",
              "    background-color: var(--hover-bg-color);\n",
              "    box-shadow: 0 1px 2px rgba(60, 64, 67, 0.3), 0 1px 3px 1px rgba(60, 64, 67, 0.15);\n",
              "    fill: var(--button-hover-fill-color);\n",
              "  }\n",
              "\n",
              "  .colab-df-quickchart-complete:disabled,\n",
              "  .colab-df-quickchart-complete:disabled:hover {\n",
              "    background-color: var(--disabled-bg-color);\n",
              "    fill: var(--disabled-fill-color);\n",
              "    box-shadow: none;\n",
              "  }\n",
              "\n",
              "  .colab-df-spinner {\n",
              "    border: 2px solid var(--fill-color);\n",
              "    border-color: transparent;\n",
              "    border-bottom-color: var(--fill-color);\n",
              "    animation:\n",
              "      spin 1s steps(1) infinite;\n",
              "  }\n",
              "\n",
              "  @keyframes spin {\n",
              "    0% {\n",
              "      border-color: transparent;\n",
              "      border-bottom-color: var(--fill-color);\n",
              "      border-left-color: var(--fill-color);\n",
              "    }\n",
              "    20% {\n",
              "      border-color: transparent;\n",
              "      border-left-color: var(--fill-color);\n",
              "      border-top-color: var(--fill-color);\n",
              "    }\n",
              "    30% {\n",
              "      border-color: transparent;\n",
              "      border-left-color: var(--fill-color);\n",
              "      border-top-color: var(--fill-color);\n",
              "      border-right-color: var(--fill-color);\n",
              "    }\n",
              "    40% {\n",
              "      border-color: transparent;\n",
              "      border-right-color: var(--fill-color);\n",
              "      border-top-color: var(--fill-color);\n",
              "    }\n",
              "    60% {\n",
              "      border-color: transparent;\n",
              "      border-right-color: var(--fill-color);\n",
              "    }\n",
              "    80% {\n",
              "      border-color: transparent;\n",
              "      border-right-color: var(--fill-color);\n",
              "      border-bottom-color: var(--fill-color);\n",
              "    }\n",
              "    90% {\n",
              "      border-color: transparent;\n",
              "      border-bottom-color: var(--fill-color);\n",
              "    }\n",
              "  }\n",
              "</style>\n",
              "\n",
              "  <script>\n",
              "    async function quickchart(key) {\n",
              "      const quickchartButtonEl =\n",
              "        document.querySelector('#' + key + ' button');\n",
              "      quickchartButtonEl.disabled = true;  // To prevent multiple clicks.\n",
              "      quickchartButtonEl.classList.add('colab-df-spinner');\n",
              "      try {\n",
              "        const charts = await google.colab.kernel.invokeFunction(\n",
              "            'suggestCharts', [key], {});\n",
              "      } catch (error) {\n",
              "        console.error('Error during call to suggestCharts:', error);\n",
              "      }\n",
              "      quickchartButtonEl.classList.remove('colab-df-spinner');\n",
              "      quickchartButtonEl.classList.add('colab-df-quickchart-complete');\n",
              "    }\n",
              "    (() => {\n",
              "      let quickchartButtonEl =\n",
              "        document.querySelector('#df-321e1064-7a77-4195-a772-4e2126514e39 button');\n",
              "      quickchartButtonEl.style.display =\n",
              "        google.colab.kernel.accessAllowed ? 'block' : 'none';\n",
              "    })();\n",
              "  </script>\n",
              "</div>\n",
              "\n",
              "    </div>\n",
              "  </div>\n"
            ],
            "application/vnd.google.colaboratory.intrinsic+json": {
              "type": "dataframe",
              "variable_name": "df"
            }
          },
          "metadata": {},
          "execution_count": 5
        }
      ],
      "source": [
        "df = pd.read_csv('./data/2018-06-06-ss.cleaned.csv')\n",
        "df.head()"
      ]
    },
    {
      "cell_type": "markdown",
      "source": [
        "# Preprocessing"
      ],
      "metadata": {
        "id": "X88W7UesaeOx"
      }
    },
    {
      "cell_type": "code",
      "source": [
        "df.len.hist(bins=100)"
      ],
      "metadata": {
        "id": "o0TKnAl-g3d-",
        "colab": {
          "base_uri": "https://localhost:8080/",
          "height": 447
        },
        "outputId": "ef4f62cd-5fd7-498e-ce5d-3df0fd4cc32c"
      },
      "execution_count": 6,
      "outputs": [
        {
          "output_type": "execute_result",
          "data": {
            "text/plain": [
              "<Axes: >"
            ]
          },
          "metadata": {},
          "execution_count": 6
        },
        {
          "output_type": "display_data",
          "data": {
            "text/plain": [
              "<Figure size 640x480 with 1 Axes>"
            ],
            "image/png": "[encoded data removed]"
          },
          "metadata": {}
        }
      ]
    },
    {
      "cell_type": "code",
      "source": [
        "MIN_AMINO_ACID_LEN = 100\n",
        "MAX_AMINO_ACID_LEN = 300\n",
        "\n",
        "print(f\"No. of sequences with non-standard amino acids: {len(df[df['has_nonstd_aa'] == True])}\")\n",
        "print(f\"No. of sequences with length < {MIN_AMINO_ACID_LEN} or > {MAX_AMINO_ACID_LEN}: {len(df[(df['len'] < MIN_AMINO_ACID_LEN) | (df['len'] > MAX_AMINO_ACID_LEN)])}\")\n",
        "print(f\"Fraction of data removed: {(len(df[df['has_nonstd_aa'] == True]) + len(df[(df['len'] < MIN_AMINO_ACID_LEN) | (df['len'] > MAX_AMINO_ACID_LEN)])) / len(df):.2f}\")\n",
        "\n",
        "df = df[df['has_nonstd_aa'] == False]\n",
        "df = df[(df['len'] >= MIN_AMINO_ACID_LEN) & (df['len'] <= MAX_AMINO_ACID_LEN)]\n",
        "\n",
        "print(f\"\\nDataframe shape after preprocessing: {len(df)}\")"
      ],
      "metadata": {
        "id": "P21eGdmZagJn",
        "colab": {
          "base_uri": "https://localhost:8080/"
        },
        "outputId": "625005f4-9cb6-489d-d3d2-bc3bed915712"
      },
      "execution_count": 7,
      "outputs": [
        {
          "output_type": "stream",
          "name": "stdout",
          "text": [
            "No. of sequences with non-standard amino acids: 7399\n",
            "No. of sequences with length < 100 or > 300: 184686\n",
            "Fraction of data removed: 0.49\n",
            "\n",
            "Dataframe shape after preprocessing: 207571\n"
          ]
        }
      ]
    },
    {
      "cell_type": "markdown",
      "source": [
        "# Train, validation, test set split"
      ],
      "metadata": {
        "id": "FrI9yeU8R_Xm"
      }
    },
    {
      "cell_type": "code",
      "source": [
        "_train, test = train_test_split(df, test_size=0.2)\n",
        "train, val = train_test_split(_train, test_size=0.2)\n",
        "\n",
        "print(f'Train size: {len(train)}')\n",
        "print(f'Validation size: {len(val)}')\n",
        "print(f'Test size: {len(test)}')"
      ],
      "metadata": {
        "id": "8faE2X_OSDoy",
        "colab": {
          "base_uri": "https://localhost:8080/"
        },
        "outputId": "729d1df4-b29a-4665-ce0f-9a6ad1e5a91c"
      },
      "execution_count": 8,
      "outputs": [
        {
          "output_type": "stream",
          "name": "stdout",
          "text": [
            "Train size: 132844\n",
            "Validation size: 33212\n",
            "Test size: 41515\n"
          ]
        }
      ]
    },
    {
      "cell_type": "markdown",
      "source": [
        "# Encoding / Decoding"
      ],
      "metadata": {
        "id": "xSQtiBHjjjIb"
      }
    },
    {
      "cell_type": "code",
      "source": [
        "def seq2kmers(seqs, n = 3):\n",
        "    return np.array([[seq[i:i+n] for i in range(len(seq))] for seq in seqs], dtype=\"object\")"
      ],
      "metadata": {
        "id": "BdG05eIjjnHN"
      },
      "execution_count": 9,
      "outputs": []
    },
    {
      "cell_type": "code",
      "source": [
        "INPUT_COL = 'seq'\n",
        "TARGET_COL = 'sst3'\n",
        "\n",
        "# Generate k-mers from sequences\n",
        "train_kmers = seq2kmers(train[INPUT_COL].to_list())\n",
        "val_kmers = seq2kmers(val[INPUT_COL].to_list())\n",
        "test_kmers = seq2kmers(test[INPUT_COL].to_list())\n",
        "\n",
        "print(f'Train kmers shape: {train_kmers.shape}')\n",
        "print(f'Validation kmers shape: {val_kmers.shape}')\n",
        "print(f'Test kmers shape: {test_kmers.shape}')"
      ],
      "metadata": {
        "id": "FKD4lxfIkQ-i",
        "colab": {
          "base_uri": "https://localhost:8080/"
        },
        "outputId": "7c7b4f16-ff70-4712-8da6-a341972ae744"
      },
      "execution_count": 10,
      "outputs": [
        {
          "output_type": "stream",
          "name": "stdout",
          "text": [
            "Train kmers shape: (132844,)\n",
            "Validation kmers shape: (33212,)\n",
            "Test kmers shape: (41515,)\n"
          ]
        }
      ]
    },
    {
      "cell_type": "code",
      "source": [
        "# Defining tokenizers\n",
        "encoder = Tokenizer()\n",
        "decoder = Tokenizer(char_level=True)\n",
        "\n",
        "# Defining corpus\n",
        "all_kmers = np.concatenate([train_kmers, val_kmers, test_kmers])\n",
        "encoder.fit_on_texts(train_kmers)\n",
        "\n",
        "decoder.fit_on_texts(train[TARGET_COL].to_list())\n",
        "\n",
        "print(f'Vocabulary size: {len(encoder.word_index) + 1}')\n",
        "print(f'Target vocabulary size: {len(decoder.word_index) + 1}')"
      ],
      "metadata": {
        "id": "tdeLMZqLn0L8",
        "colab": {
          "base_uri": "https://localhost:8080/"
        },
        "outputId": "e0df8e4b-ec84-4a21-f104-d72b63c13b24"
      },
      "execution_count": 11,
      "outputs": [
        {
          "output_type": "stream",
          "name": "stdout",
          "text": [
            "Vocabulary size: 8420\n",
            "Target vocabulary size: 4\n"
          ]
        }
      ]
    },
    {
      "cell_type": "code",
      "source": [
        "def encode(X, y):\n",
        "    X = encoder.texts_to_sequences(X)\n",
        "    X = pad_sequences(X, maxlen=MAX_AMINO_ACID_LEN, padding='post')\n",
        "\n",
        "    y = decoder.texts_to_sequences(y)\n",
        "    y = pad_sequences(y, maxlen=MAX_AMINO_ACID_LEN, padding='post')\n",
        "    y = to_categorical(y)\n",
        "\n",
        "    return X, y\n",
        "\n",
        "def decode(y):\n",
        "    y = np.argmax(y, axis=-1)\n",
        "    y = decoder.sequences_to_texts(y)\n",
        "    return y"
      ],
      "metadata": {
        "id": "FCaWeXSef4AM"
      },
      "execution_count": 12,
      "outputs": []
    },
    {
      "cell_type": "code",
      "source": [
        "X_train, y_train = encode(train_kmers, train[TARGET_COL].to_list())\n",
        "X_val, y_val = encode(val_kmers, val[TARGET_COL].to_list())\n",
        "\n",
        "print(f\"Training shapes X: {X_train.shape}, y: {y_train.shape}\")\n",
        "print(f\"Validation shapes X: {X_val.shape}, y: {y_val.shape}\")"
      ],
      "metadata": {
        "colab": {
          "base_uri": "https://localhost:8080/"
        },
        "id": "ULlN5uRmgN8p",
        "outputId": "728ed49a-8531-4881-baf6-4959ab366ec2"
      },
      "execution_count": 13,
      "outputs": [
        {
          "output_type": "stream",
          "name": "stdout",
          "text": [
            "Training shapes X: (132844, 300), y: (132844, 300, 4)\n",
            "Validation shapes X: (33212, 300), y: (33212, 300, 4)\n"
          ]
        }
      ]
    },
    {
      "cell_type": "markdown",
      "source": [
        "# Model creation"
      ],
      "metadata": {
        "id": "_10OmbVZpSEd"
      }
    },
    {
      "cell_type": "code",
      "source": [
        "n_words = len(encoder.word_index) + 1\n",
        "n_ssts = len(decoder.word_index) + 1\n",
        "\n",
        "model = Sequential()\n",
        "model.add(Input(shape=(MAX_AMINO_ACID_LEN,)))\n",
        "model.add(Embedding(n_words, 128, input_length=MAX_AMINO_ACID_LEN))\n",
        "model.add(Bidirectional(GRU(128, return_sequences=True)))\n",
        "model.add(Dropout(0.2))\n",
        "model.add(Bidirectional(GRU(128, return_sequences=True)))\n",
        "model.add(Dropout(0.2))\n",
        "model.add(TimeDistributed(Dense(n_ssts, activation='softmax')))\n",
        "\n",
        "model.summary()"
      ],
      "metadata": {
        "id": "Amlb23vOp6fO",
        "colab": {
          "base_uri": "https://localhost:8080/",
          "height": 340
        },
        "outputId": "90f7df2d-4112-4011-accb-d35ede9ddab6"
      },
      "execution_count": 14,
      "outputs": [
        {
          "output_type": "display_data",
          "data": {
            "text/plain": [
              "\u001b[1mModel: \"sequential\"\u001b[0m\n"
            ],
            "text/html": [
              "<pre style=\"white-space:pre;overflow-x:auto;line-height:normal;font-family:Menlo,'DejaVu Sans Mono',consolas,'Courier New',monospace\"><span style=\"font-weight: bold\">Model: \"sequential\"</span>\n",
              "</pre>\n"
            ]
          },
          "metadata": {}
        },
        {
          "output_type": "display_data",
          "data": {
            "text/plain": [
              "┏━━━━━━━━━━━━━━━━━━━━━━━━━━━━━━━━━━━━━━┳━━━━━━━━━━━━━━━━━━━━━━━━━━━━━┳━━━━━━━━━━━━━━━━━┓\n",
              "┃\u001b[1m \u001b[0m\u001b[1mLayer (type)                        \u001b[0m\u001b[1m \u001b[0m┃\u001b[1m \u001b[0m\u001b[1mOutput Shape               \u001b[0m\u001b[1m \u001b[0m┃\u001b[1m \u001b[0m\u001b[1m        Param #\u001b[0m\u001b[1m \u001b[0m┃\n",
              "┡━━━━━━━━━━━━━━━━━━━━━━━━━━━━━━━━━━━━━━╇━━━━━━━━━━━━━━━━━━━━━━━━━━━━━╇━━━━━━━━━━━━━━━━━┩\n",
              "│ embedding (\u001b[38;5;33mEmbedding\u001b[0m)                │ (\u001b[38;5;45mNone\u001b[0m, \u001b[38;5;34m300\u001b[0m, \u001b[38;5;34m128\u001b[0m)            │       \u001b[38;5;34m1,077,760\u001b[0m │\n",
              "├──────────────────────────────────────┼─────────────────────────────┼─────────────────┤\n",
              "│ bidirectional (\u001b[38;5;33mBidirectional\u001b[0m)        │ (\u001b[38;5;45mNone\u001b[0m, \u001b[38;5;34m300\u001b[0m, \u001b[38;5;34m256\u001b[0m)            │         \u001b[38;5;34m198,144\u001b[0m │\n",
              "├──────────────────────────────────────┼─────────────────────────────┼─────────────────┤\n",
              "│ dropout (\u001b[38;5;33mDropout\u001b[0m)                    │ (\u001b[38;5;45mNone\u001b[0m, \u001b[38;5;34m300\u001b[0m, \u001b[38;5;34m256\u001b[0m)            │               \u001b[38;5;34m0\u001b[0m │\n",
              "├──────────────────────────────────────┼─────────────────────────────┼─────────────────┤\n",
              "│ bidirectional_1 (\u001b[38;5;33mBidirectional\u001b[0m)      │ (\u001b[38;5;45mNone\u001b[0m, \u001b[38;5;34m300\u001b[0m, \u001b[38;5;34m256\u001b[0m)            │         \u001b[38;5;34m296,448\u001b[0m │\n",
              "├──────────────────────────────────────┼─────────────────────────────┼─────────────────┤\n",
              "│ dropout_1 (\u001b[38;5;33mDropout\u001b[0m)                  │ (\u001b[38;5;45mNone\u001b[0m, \u001b[38;5;34m300\u001b[0m, \u001b[38;5;34m256\u001b[0m)            │               \u001b[38;5;34m0\u001b[0m │\n",
              "├──────────────────────────────────────┼─────────────────────────────┼─────────────────┤\n",
              "│ time_distributed (\u001b[38;5;33mTimeDistributed\u001b[0m)   │ (\u001b[38;5;45mNone\u001b[0m, \u001b[38;5;34m300\u001b[0m, \u001b[38;5;34m4\u001b[0m)              │           \u001b[38;5;34m1,028\u001b[0m │\n",
              "└──────────────────────────────────────┴─────────────────────────────┴─────────────────┘\n"
            ],
            "text/html": [
              "<pre style=\"white-space:pre;overflow-x:auto;line-height:normal;font-family:Menlo,'DejaVu Sans Mono',consolas,'Courier New',monospace\">┏━━━━━━━━━━━━━━━━━━━━━━━━━━━━━━━━━━━━━━┳━━━━━━━━━━━━━━━━━━━━━━━━━━━━━┳━━━━━━━━━━━━━━━━━┓\n",
              "┃<span style=\"font-weight: bold\"> Layer (type)                         </span>┃<span style=\"font-weight: bold\"> Output Shape                </span>┃<span style=\"font-weight: bold\">         Param # </span>┃\n",
              "┡━━━━━━━━━━━━━━━━━━━━━━━━━━━━━━━━━━━━━━╇━━━━━━━━━━━━━━━━━━━━━━━━━━━━━╇━━━━━━━━━━━━━━━━━┩\n",
              "│ embedding (<span style=\"color: #0087ff; text-decoration-color: #0087ff\">Embedding</span>)                │ (<span style=\"color: #00d7ff; text-decoration-color: #00d7ff\">None</span>, <span style=\"color: #00af00; text-decoration-color: #00af00\">300</span>, <span style=\"color: #00af00; text-decoration-color: #00af00\">128</span>)            │       <span style=\"color: #00af00; text-decoration-color: #00af00\">1,077,760</span> │\n",
              "├──────────────────────────────────────┼─────────────────────────────┼─────────────────┤\n",
              "│ bidirectional (<span style=\"color: #0087ff; text-decoration-color: #0087ff\">Bidirectional</span>)        │ (<span style=\"color: #00d7ff; text-decoration-color: #00d7ff\">None</span>, <span style=\"color: #00af00; text-decoration-color: #00af00\">300</span>, <span style=\"color: #00af00; text-decoration-color: #00af00\">256</span>)            │         <span style=\"color: #00af00; text-decoration-color: #00af00\">198,144</span> │\n",
              "├──────────────────────────────────────┼─────────────────────────────┼─────────────────┤\n",
              "│ dropout (<span style=\"color: #0087ff; text-decoration-color: #0087ff\">Dropout</span>)                    │ (<span style=\"color: #00d7ff; text-decoration-color: #00d7ff\">None</span>, <span style=\"color: #00af00; text-decoration-color: #00af00\">300</span>, <span style=\"color: #00af00; text-decoration-color: #00af00\">256</span>)            │               <span style=\"color: #00af00; text-decoration-color: #00af00\">0</span> │\n",
              "├──────────────────────────────────────┼─────────────────────────────┼─────────────────┤\n",
              "│ bidirectional_1 (<span style=\"color: #0087ff; text-decoration-color: #0087ff\">Bidirectional</span>)      │ (<span style=\"color: #00d7ff; text-decoration-color: #00d7ff\">None</span>, <span style=\"color: #00af00; text-decoration-color: #00af00\">300</span>, <span style=\"color: #00af00; text-decoration-color: #00af00\">256</span>)            │         <span style=\"color: #00af00; text-decoration-color: #00af00\">296,448</span> │\n",
              "├──────────────────────────────────────┼─────────────────────────────┼─────────────────┤\n",
              "│ dropout_1 (<span style=\"color: #0087ff; text-decoration-color: #0087ff\">Dropout</span>)                  │ (<span style=\"color: #00d7ff; text-decoration-color: #00d7ff\">None</span>, <span style=\"color: #00af00; text-decoration-color: #00af00\">300</span>, <span style=\"color: #00af00; text-decoration-color: #00af00\">256</span>)            │               <span style=\"color: #00af00; text-decoration-color: #00af00\">0</span> │\n",
              "├──────────────────────────────────────┼─────────────────────────────┼─────────────────┤\n",
              "│ time_distributed (<span style=\"color: #0087ff; text-decoration-color: #0087ff\">TimeDistributed</span>)   │ (<span style=\"color: #00d7ff; text-decoration-color: #00d7ff\">None</span>, <span style=\"color: #00af00; text-decoration-color: #00af00\">300</span>, <span style=\"color: #00af00; text-decoration-color: #00af00\">4</span>)              │           <span style=\"color: #00af00; text-decoration-color: #00af00\">1,028</span> │\n",
              "└──────────────────────────────────────┴─────────────────────────────┴─────────────────┘\n",
              "</pre>\n"
            ]
          },
          "metadata": {}
        },
        {
          "output_type": "display_data",
          "data": {
            "text/plain": [
              "\u001b[1m Total params: \u001b[0m\u001b[38;5;34m1,573,380\u001b[0m (6.00 MB)\n"
            ],
            "text/html": [
              "<pre style=\"white-space:pre;overflow-x:auto;line-height:normal;font-family:Menlo,'DejaVu Sans Mono',consolas,'Courier New',monospace\"><span style=\"font-weight: bold\"> Total params: </span><span style=\"color: #00af00; text-decoration-color: #00af00\">1,573,380</span> (6.00 MB)\n",
              "</pre>\n"
            ]
          },
          "metadata": {}
        },
        {
          "output_type": "display_data",
          "data": {
            "text/plain": [
              "\u001b[1m Trainable params: \u001b[0m\u001b[38;5;34m1,573,380\u001b[0m (6.00 MB)\n"
            ],
            "text/html": [
              "<pre style=\"white-space:pre;overflow-x:auto;line-height:normal;font-family:Menlo,'DejaVu Sans Mono',consolas,'Courier New',monospace\"><span style=\"font-weight: bold\"> Trainable params: </span><span style=\"color: #00af00; text-decoration-color: #00af00\">1,573,380</span> (6.00 MB)\n",
              "</pre>\n"
            ]
          },
          "metadata": {}
        },
        {
          "output_type": "display_data",
          "data": {
            "text/plain": [
              "\u001b[1m Non-trainable params: \u001b[0m\u001b[38;5;34m0\u001b[0m (0.00 B)\n"
            ],
            "text/html": [
              "<pre style=\"white-space:pre;overflow-x:auto;line-height:normal;font-family:Menlo,'DejaVu Sans Mono',consolas,'Courier New',monospace\"><span style=\"font-weight: bold\"> Non-trainable params: </span><span style=\"color: #00af00; text-decoration-color: #00af00\">0</span> (0.00 B)\n",
              "</pre>\n"
            ]
          },
          "metadata": {}
        }
      ]
    },
    {
      "cell_type": "code",
      "source": [
        "@keras.saving.register_keras_serializable()\n",
        "def q3_acc(y_true, y_pred):\n",
        "    # Get the true and predicted class indices\n",
        "    y = tf.argmax(y_true, axis=-1)\n",
        "    y_ = tf.argmax(y_pred, axis=-1)\n",
        "\n",
        "    # Create a mask to exclude any unwanted classes (e.g., padding with index 0)\n",
        "    mask = y > 0\n",
        "\n",
        "    # Calculate accuracy on masked values\n",
        "    correct_predictions = tf.boolean_mask(y, mask) == tf.boolean_mask(y_, mask)\n",
        "    accuracy = tf.reduce_mean(tf.cast(correct_predictions, dtype=tf.float32))\n",
        "\n",
        "    return accuracy\n",
        "\n",
        "\n",
        "class TimeHistory(keras.callbacks.Callback):\n",
        "    def on_train_begin(self, logs={}):\n",
        "        self.times = []\n",
        "\n",
        "    def on_epoch_begin(self, batch, logs={}):\n",
        "        self.epoch_time_start = time.time()\n",
        "\n",
        "    def on_epoch_end(self, batch, logs={}):\n",
        "        self.times.append(time.time() - self.epoch_time_start)"
      ],
      "metadata": {
        "id": "HjMDPFvCq2Wl"
      },
      "execution_count": 15,
      "outputs": []
    },
    {
      "cell_type": "code",
      "source": [
        "model.compile(loss='categorical_crossentropy', optimizer='adam', metrics=['accuracy', q3_acc])"
      ],
      "metadata": {
        "id": "cp9BS-21gifC"
      },
      "execution_count": 16,
      "outputs": []
    },
    {
      "cell_type": "code",
      "source": [
        "BATCH_SIZE = 64\n",
        "EPOCHS = 10\n",
        "\n",
        "time_callback = TimeHistory()\n",
        "history = model.fit(X_train, y_train, batch_size=BATCH_SIZE, epochs=EPOCHS, validation_data=(X_val, y_val), callbacks=[time_callback])"
      ],
      "metadata": {
        "id": "n89Dbkulq3qc",
        "colab": {
          "base_uri": "https://localhost:8080/"
        },
        "outputId": "eac2c7ae-9915-42b5-92c7-555c71a7e6ef"
      },
      "execution_count": 17,
      "outputs": [
        {
          "output_type": "stream",
          "name": "stdout",
          "text": [
            "Epoch 1/10\n",
            "\u001b[1m2076/2076\u001b[0m \u001b[32m━━━━━━━━━━━━━━━━━━━━\u001b[0m\u001b[37m\u001b[0m \u001b[1m298s\u001b[0m 133ms/step - accuracy: 0.8202 - loss: 0.4199 - q3_acc: 0.7239 - val_accuracy: 0.8868 - val_loss: 0.2781 - val_q3_acc: 0.8248\n",
            "Epoch 2/10\n",
            "\u001b[1m2076/2076\u001b[0m \u001b[32m━━━━━━━━━━━━━━━━━━━━\u001b[0m\u001b[37m\u001b[0m \u001b[1m274s\u001b[0m 132ms/step - accuracy: 0.8928 - loss: 0.2648 - q3_acc: 0.8343 - val_accuracy: 0.9077 - val_loss: 0.2302 - val_q3_acc: 0.8571\n",
            "Epoch 3/10\n",
            "\u001b[1m2076/2076\u001b[0m \u001b[32m━━━━━━━━━━━━━━━━━━━━\u001b[0m\u001b[37m\u001b[0m \u001b[1m275s\u001b[0m 132ms/step - accuracy: 0.9111 - loss: 0.2224 - q3_acc: 0.8625 - val_accuracy: 0.9181 - val_loss: 0.2071 - val_q3_acc: 0.8732\n",
            "Epoch 4/10\n",
            "\u001b[1m2076/2076\u001b[0m \u001b[32m━━━━━━━━━━━━━━━━━━━━\u001b[0m\u001b[37m\u001b[0m \u001b[1m273s\u001b[0m 131ms/step - accuracy: 0.9220 - loss: 0.1970 - q3_acc: 0.8794 - val_accuracy: 0.9247 - val_loss: 0.1926 - val_q3_acc: 0.8834\n",
            "Epoch 5/10\n",
            "\u001b[1m2076/2076\u001b[0m \u001b[32m━━━━━━━━━━━━━━━━━━━━\u001b[0m\u001b[37m\u001b[0m \u001b[1m275s\u001b[0m 132ms/step - accuracy: 0.9291 - loss: 0.1803 - q3_acc: 0.8903 - val_accuracy: 0.9299 - val_loss: 0.1811 - val_q3_acc: 0.8914\n",
            "Epoch 6/10\n",
            "\u001b[1m2076/2076\u001b[0m \u001b[32m━━━━━━━━━━━━━━━━━━━━\u001b[0m\u001b[37m\u001b[0m \u001b[1m274s\u001b[0m 132ms/step - accuracy: 0.9346 - loss: 0.1675 - q3_acc: 0.8988 - val_accuracy: 0.9334 - val_loss: 0.1737 - val_q3_acc: 0.8969\n",
            "Epoch 7/10\n",
            "\u001b[1m2076/2076\u001b[0m \u001b[32m━━━━━━━━━━━━━━━━━━━━\u001b[0m\u001b[37m\u001b[0m \u001b[1m273s\u001b[0m 132ms/step - accuracy: 0.9387 - loss: 0.1576 - q3_acc: 0.9052 - val_accuracy: 0.9362 - val_loss: 0.1677 - val_q3_acc: 0.9012\n",
            "Epoch 8/10\n",
            "\u001b[1m2076/2076\u001b[0m \u001b[32m━━━━━━━━━━━━━━━━━━━━\u001b[0m\u001b[37m\u001b[0m \u001b[1m273s\u001b[0m 131ms/step - accuracy: 0.9421 - loss: 0.1495 - q3_acc: 0.9104 - val_accuracy: 0.9387 - val_loss: 0.1625 - val_q3_acc: 0.9051\n",
            "Epoch 9/10\n",
            "\u001b[1m2076/2076\u001b[0m \u001b[32m━━━━━━━━━━━━━━━━━━━━\u001b[0m\u001b[37m\u001b[0m \u001b[1m273s\u001b[0m 131ms/step - accuracy: 0.9449 - loss: 0.1428 - q3_acc: 0.9147 - val_accuracy: 0.9406 - val_loss: 0.1583 - val_q3_acc: 0.9080\n",
            "Epoch 10/10\n",
            "\u001b[1m2076/2076\u001b[0m \u001b[32m━━━━━━━━━━━━━━━━━━━━\u001b[0m\u001b[37m\u001b[0m \u001b[1m273s\u001b[0m 131ms/step - accuracy: 0.9470 - loss: 0.1373 - q3_acc: 0.9181 - val_accuracy: 0.9423 - val_loss: 0.1543 - val_q3_acc: 0.9107\n"
          ]
        }
      ]
    },
    {
      "cell_type": "markdown",
      "source": [
        "# Export model"
      ],
      "metadata": {
        "id": "HSqta8G98U78"
      }
    },
    {
      "cell_type": "code",
      "source": [
        "PREFIX = 'BI-GRU'\n",
        "\n",
        "# Save model\n",
        "model.save(f'{PREFIX}.model.keras')\n",
        "\n",
        "# Save history\n",
        "with open(f'{PREFIX}.history.pkl', 'wb') as f:\n",
        "    pickle.dump(history.history, f)\n",
        "\n",
        "with open(f'{PREFIX}.history_times.pkl', 'wb') as f:\n",
        "    pickle.dump(time_callback.times, f)"
      ],
      "metadata": {
        "id": "yKOTRoOxxr0w"
      },
      "execution_count": 18,
      "outputs": []
    },
    {
      "cell_type": "markdown",
      "source": [
        "# Test set performance"
      ],
      "metadata": {
        "id": "i4NKvvMGrigd"
      }
    },
    {
      "cell_type": "code",
      "source": [
        "X_test, y_test = encode(test_kmers, test[TARGET_COL].to_list())\n",
        "\n",
        "print(f\"Test shapes X: {X_test.shape}, y: {y_test.shape}\")"
      ],
      "metadata": {
        "id": "UbI3Ye1ErkhW",
        "colab": {
          "base_uri": "https://localhost:8080/"
        },
        "outputId": "09d0554b-4d75-4064-b15c-19ef4f63b8c5"
      },
      "execution_count": 19,
      "outputs": [
        {
          "output_type": "stream",
          "name": "stdout",
          "text": [
            "Test shapes X: (41515, 300), y: (41515, 300, 4)\n"
          ]
        }
      ]
    },
    {
      "cell_type": "code",
      "source": [
        "eval = model.evaluate(X_test, y_test)\n",
        "print(f'Test loss: {eval[0]:.2f}')\n",
        "print(f'Test accuracy: {eval[1]:.2f}')\n",
        "print(f'Test Q3 accuracy: {eval[2]:.2f}')"
      ],
      "metadata": {
        "colab": {
          "base_uri": "https://localhost:8080/"
        },
        "id": "V4axbGAfg2Dl",
        "outputId": "8042e352-daca-43d0-a5db-bb914be543a1"
      },
      "execution_count": 20,
      "outputs": [
        {
          "output_type": "stream",
          "name": "stdout",
          "text": [
            "\u001b[1m1298/1298\u001b[0m \u001b[32m━━━━━━━━━━━━━━━━━━━━\u001b[0m\u001b[37m\u001b[0m \u001b[1m40s\u001b[0m 31ms/step - accuracy: 0.9427 - loss: 0.1534 - q3_acc: 0.9114\n",
            "Test loss: 0.15\n",
            "Test accuracy: 0.94\n",
            "Test Q3 accuracy: 0.91\n"
          ]
        }
      ]
    },
    {
      "cell_type": "code",
      "source": [
        "# Visualise results\n",
        "LABEL_WIDTH = 12\n",
        "random_indexes = np.random.choice(len(test), 5)\n",
        "\n",
        "for ind, i in enumerate(random_indexes):\n",
        "    print(f\"Example #{ind + 1}\")\n",
        "\n",
        "    y_pred = model.predict(X_test[i:i+1])\n",
        "\n",
        "    pred, act = y_pred[0], y_test[i]\n",
        "    dec_pred, dec_act = decode([pred])[0], decode([act])[0]\n",
        "    dec_pred = dec_pred.replace(' ', '')\n",
        "    dec_act = dec_act.replace(' ', '')\n",
        "\n",
        "    diff = ''.join(['*' if dec_pred[i] != dec_act[i] else dec_act[i] for i in range(min(len(dec_pred), len(dec_act)))])\n",
        "\n",
        "    print(f\"{'Predicted:'.ljust(LABEL_WIDTH)} {dec_pred}\")\n",
        "    print(f\"{'Actual:'.ljust(LABEL_WIDTH)} {dec_act}\")\n",
        "    print(f\"{'Difference:'.ljust(LABEL_WIDTH)} {diff}\")\n",
        "    print()"
      ],
      "metadata": {
        "colab": {
          "base_uri": "https://localhost:8080/"
        },
        "id": "3v-DaoBJi_GB",
        "outputId": "26cfd813-4f9a-4de3-c962-a2a15b395472"
      },
      "execution_count": 21,
      "outputs": [
        {
          "output_type": "stream",
          "name": "stdout",
          "text": [
            "Example #1\n",
            "\u001b[1m1/1\u001b[0m \u001b[32m━━━━━━━━━━━━━━━━━━━━\u001b[0m\u001b[37m\u001b[0m \u001b[1m3s\u001b[0m 3s/step\n",
            "Predicted:   cchhhhhhhhhhhhhhcchhhhhhhhhhchhccccchhhhhhhhccccccchhhhhhhheeecccccccchhhcccccccccchhhhhhhhhhhhhhccccccccccccchhhhhhhhhhhhhcccchhhhhhhhhcccceeeeeeeeeeechhhhhhhhhhhhhhhhhhccchhhhhhhhhhhhhhhhhhhhhhhhhccccccchhhhhhhhhhhhhhhcccccccccccchhhhhhhhhhhhhhhhhhhhhhhhhhhhhcccccccc\n",
            "Actual:      cchhhhhhhhhhhhcccchhhhhhhhhhcchhhccchhhhcchhhhccccchhhhhhhceeeccccccchhhhceccccceccchhhhhhhhhhhhcccccccccccccchhhhhhhhhhhhhhccchhheeehhhhhhccceeeecceeeehhhhhhchhhhhhhhhhcccchhhhhhhhhhhhhhcchhhhhhhhcccccccchhhhhhhhhhhhhhcccccccccceechhhhhhhhhhhhhhhhhhhhhhhhhhhhhhccccccc\n",
            "Difference:  cchhhhhhhhhhhh**cchhhhhhhhhhc*h**ccchhhh**hh**ccccchhhhhhh*eeeccccccc*hhhc*ccccc*cc*hhhhhhhhhhhh*ccccccccccccchhhhhhhhhhhhh*ccchhh***hhh***c**eeee**eee*hhhhhh*hhhhhhhhhh*ccchhhhhhhhhhhhhh**hhhhhhhh*ccccccchhhhhhhhhhhhhh*ccccccccc**chhhhhhhhhhhhhhhhhhhhhhhhhhhhh*ccccccc\n",
            "\n",
            "Example #2\n",
            "\u001b[1m1/1\u001b[0m \u001b[32m━━━━━━━━━━━━━━━━━━━━\u001b[0m\u001b[37m\u001b[0m \u001b[1m0s\u001b[0m 40ms/step\n",
            "Predicted:   ccceeeeeeecccceeeeeeccccchhhhhhhhhhhhccchhheeeeccceecccccchhhccccccceeeeeecccccceeeeeecccccceeeeeecccchhhhhhhhhccccccccceeeeecccecccccehhhhcccccceeeeec\n",
            "Actual:      cccceeeeeeccceeeeeecccccehhhhhhhhhhhcccccccccceccccecccccecccccccccceeeecccccccceeeeeeccccccceeeeccccehhhhhhhhhhhcccchhhceeeecceecccccehhhhcccccceeeeec\n",
            "Difference:  ccc*eeeeeeccc*eeeee*cccc*hhhhhhhhhhh*ccc******eccc*eccccc****ccccccceeee**cccccceeeeeecccccc*eeee*ccc*hhhhhhhhh**cccc****eeeecc*ecccccehhhhcccccceeeeec\n",
            "\n",
            "Example #3\n",
            "\u001b[1m1/1\u001b[0m \u001b[32m━━━━━━━━━━━━━━━━━━━━\u001b[0m\u001b[37m\u001b[0m \u001b[1m0s\u001b[0m 39ms/step\n",
            "Predicted:   ccccccccccccccccceccccccccccccccccccccccccccccccecccceccccccceccccccchhccccceeeeeeecccccccceeeeeecccceeeeeccccccccceececccccccccceeehhhccccceeeceecccccceeeccccccceeeeeeecceeeeeccccceeeeeccceeeeccccchhhhhcccccchhhccccccccccccccccccccccccccccccccccecccccecccccccccccccccceeccccc\n",
            "Actual:      ccceeccccccccccceecccccccccccccccccceccccccecccceccccecccccccecccccchhhheccceeeeeeecccccccceeeeeecccceeeeeccccccccceececccccccccceeehhhccccceeeceecccccceeeccccccceeeeeeecceeeeeccccceeeeeccceeeeccccchhhhhccccchhhhhhcceccccccccccccccccccccccccccccceccccceccccccccccchhhhhecccccc\n",
            "Difference:  ccc**ccccccccccc*ecccccccccccccccccc*cccccc*cccceccccecccccccecccccc*hh**ccceeeeeeecccccccceeeeeecccceeeeeccccccccceececccccccccceeehhhccccceeeceecccccceeeccccccceeeeeeecceeeeeccccceeeeeccceeeeccccchhhhhccccc*hhh**cc*ccccccccccccccccccccccccccccceccccceccccccccccc*****e*ccccc\n",
            "\n",
            "Example #4\n",
            "\u001b[1m1/1\u001b[0m \u001b[32m━━━━━━━━━━━━━━━━━━━━\u001b[0m\u001b[37m\u001b[0m \u001b[1m0s\u001b[0m 39ms/step\n",
            "Predicted:   cceeeeeeeeeecccccccceeeeeeeecceeeeeeecccccccceecchhhcccchhhhhhhhhhhhhhhhhhhhhhhhhhhhccccccccceeeeeeeeeeccccceeeeeeeeeecceeeeeecccccceeecchhhhhhhhhhhhcchhhhhhhhhhchhhhhhhhhhhhchhhhcccecceeeeeeeecccceeeeeeeeeeeecccceeeeeecceeeccceeeccceeccccceeeeeeeeeeccchhheeeeeeccccccceeeccccccccccccccccccccc\n",
            "Actual:      cceeeeeeeeeecccccccceeeeeeeecceeeeeeecccccccceecchhhhhcchhhhhhhhhhhhhhhhhhhhhhhhhhhhccccccccceeeeeeeeeeccccceeeeeeeeeecceeeeeecccccceeecchhhhhhhhhhhhcchhhhhhhhhcchhhhhhhhhhhhchhhhcccecceeeeeeeecccceeeeeeeeeeeecccceeeeeecceeeccceeeccceeccccceeeeeeeeeeccchhheeeeeeccccccceeeecccccccccccccccccccc\n",
            "Difference:  cceeeeeeeeeecccccccceeeeeeeecceeeeeeecccccccceecchhh**cchhhhhhhhhhhhhhhhhhhhhhhhhhhhccccccccceeeeeeeeeeccccceeeeeeeeeecceeeeeecccccceeecchhhhhhhhhhhhcchhhhhhhhh*chhhhhhhhhhhhchhhhcccecceeeeeeeecccceeeeeeeeeeeecccceeeeeecceeeccceeeccceeccccceeeeeeeeeeccchhheeeeeeccccccceee*cccccccccccccccccccc\n",
            "\n",
            "Example #5\n",
            "\u001b[1m1/1\u001b[0m \u001b[32m━━━━━━━━━━━━━━━━━━━━\u001b[0m\u001b[37m\u001b[0m \u001b[1m0s\u001b[0m 39ms/step\n",
            "Predicted:   ccccccccccceeeeecccchhhhhhhhhhhhhccceeeeecccccccccccccchhhhhhhhhhhhhhccceeeecccccchhhhhhhhhhhhhhccccceeeecccccccccccccchhhhhhhhhhhchhhhhhhhhhhhhhhhccceeeeeechhhhhhcccccchhhhhhhhhhhhhhhhhhhhhhhceeeeeeeecccccccccchhhhccccccccccchhhhhhhhhhhccccccccchhhhhhhhhhhhhhhhhcccceeeeecchhhhhcc\n",
            "Actual:      ccccccccccceeeeecccchhhhhhhhhhhhccceeeeeecccccccccccccchhhhhhhhhhhhhhccceeeeeccccchhhhhhhhhhhhhhhcccceeeecccccccecccccchhhhhhhhhhhchhhhhhhhhhhhhhhhhcceeeeeecchhhccccccehhhhhhhhhhhhhhhhhhhhchhhceeeeeeeecceccccccchhhhhhhccccccccchhhhhhhhcccccccccechhhhhhhhhhhhchhhcccccceeeeccchhhhcc\n",
            "Difference:  ccccccccccceeeeecccchhhhhhhhhhhh*cc*eeeeecccccccccccccchhhhhhhhhhhhhhccceeee*ccccchhhhhhhhhhhhhh*cccceeeeccccccc*cccccchhhhhhhhhhhchhhhhhhhhhhhhhhh*cceeeeeec*hhh**cccc**hhhhhhhhhhhhhhhhhhh*hhhceeeeeeeecc*ccccccchhhh***cccccccc*hhhhhhhh**ccccccc*chhhhhhhhhhhh*hhh*cccc*eeeecc*hhhhcc\n",
            "\n"
          ]
        }
      ]
    }
  ],
  "metadata": {
    "colab": {
      "provenance": [],
      "gpuType": "L4"
    },
    "kernelspec": {
      "display_name": "Python 3",
      "name": "python3"
    },
    "language_info": {
      "name": "python"
    },
    "accelerator": "GPU"
  },
  "nbformat": 4,
  "nbformat_minor": 0
}